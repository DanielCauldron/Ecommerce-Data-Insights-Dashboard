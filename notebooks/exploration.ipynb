{
 "cells": [
  {
   "cell_type": "code",
   "execution_count": 22,
   "id": "09a158ed",
   "metadata": {},
   "outputs": [],
   "source": [
    "import pandas as pd\n",
    "import matplotlib.pyplot as plt\n",
    "import seaborn as sns\n",
    "import os\n",
    "\n",
    "sns.set_style('whitegrid')\n",
    "%matplotlib inline"
   ]
  },
  {
   "cell_type": "code",
   "execution_count": 23,
   "id": "49c7d279",
   "metadata": {},
   "outputs": [],
   "source": [
    "data_path = '/home/caldeirao/projetos/dashboard-ecommerce/data/processed/'#caminho dos dados processados\n",
    "#carregar os dados\n"
   ]
  },
  {
   "cell_type": "code",
   "execution_count": 24,
   "id": "9cc1ffb7",
   "metadata": {},
   "outputs": [
    {
     "data": {
      "text/plain": [
       "['dim_products.csv', 'dim_customers.csv', 'fact_sales.csv']"
      ]
     },
     "execution_count": 24,
     "metadata": {},
     "output_type": "execute_result"
    }
   ],
   "source": [
    "os.listdir(data_path)#listar os arquivos no diretorio"
   ]
  },
  {
   "cell_type": "code",
   "execution_count": 35,
   "id": "3a4ba79b",
   "metadata": {},
   "outputs": [],
   "source": [
    "customers = pd.read_csv(data_path + 'dim_customers.csv')\n",
    "products = pd.read_csv(data_path + 'dim_products.csv')\n",
    "sales = pd.read_csv(data_path + 'fact_sales.csv')"
   ]
  },
  {
   "cell_type": "code",
   "execution_count": 36,
   "id": "44822cb6",
   "metadata": {},
   "outputs": [
    {
     "data": {
      "text/html": [
       "<div>\n",
       "<style scoped>\n",
       "    .dataframe tbody tr th:only-of-type {\n",
       "        vertical-align: middle;\n",
       "    }\n",
       "\n",
       "    .dataframe tbody tr th {\n",
       "        vertical-align: top;\n",
       "    }\n",
       "\n",
       "    .dataframe thead th {\n",
       "        text-align: right;\n",
       "    }\n",
       "</style>\n",
       "<table border=\"1\" class=\"dataframe\">\n",
       "  <thead>\n",
       "    <tr style=\"text-align: right;\">\n",
       "      <th></th>\n",
       "      <th>customer_id</th>\n",
       "      <th>customer_name</th>\n",
       "      <th>customer_city</th>\n",
       "      <th>customer_state</th>\n",
       "    </tr>\n",
       "  </thead>\n",
       "  <tbody>\n",
       "    <tr>\n",
       "      <th>0</th>\n",
       "      <td>8</td>\n",
       "      <td>Igor Rezende</td>\n",
       "      <td>Pinto</td>\n",
       "      <td>DF</td>\n",
       "    </tr>\n",
       "    <tr>\n",
       "      <th>1</th>\n",
       "      <td>89</td>\n",
       "      <td>Maria Ribeiro</td>\n",
       "      <td>Barbosa da Serra</td>\n",
       "      <td>DF</td>\n",
       "    </tr>\n",
       "    <tr>\n",
       "      <th>2</th>\n",
       "      <td>48</td>\n",
       "      <td>Ana Clara Freitas</td>\n",
       "      <td>Peixoto</td>\n",
       "      <td>ES</td>\n",
       "    </tr>\n",
       "    <tr>\n",
       "      <th>3</th>\n",
       "      <td>37</td>\n",
       "      <td>Alice Souza</td>\n",
       "      <td>Barbosa</td>\n",
       "      <td>SP</td>\n",
       "    </tr>\n",
       "    <tr>\n",
       "      <th>4</th>\n",
       "      <td>23</td>\n",
       "      <td>Luiz Gustavo Costa</td>\n",
       "      <td>Carvalho das Flores</td>\n",
       "      <td>TO</td>\n",
       "    </tr>\n",
       "  </tbody>\n",
       "</table>\n",
       "</div>"
      ],
      "text/plain": [
       "   customer_id       customer_name        customer_city customer_state\n",
       "0            8        Igor Rezende                Pinto             DF\n",
       "1           89       Maria Ribeiro     Barbosa da Serra             DF\n",
       "2           48   Ana Clara Freitas              Peixoto             ES\n",
       "3           37         Alice Souza              Barbosa             SP\n",
       "4           23  Luiz Gustavo Costa  Carvalho das Flores             TO"
      ]
     },
     "metadata": {},
     "output_type": "display_data"
    },
    {
     "data": {
      "text/html": [
       "<div>\n",
       "<style scoped>\n",
       "    .dataframe tbody tr th:only-of-type {\n",
       "        vertical-align: middle;\n",
       "    }\n",
       "\n",
       "    .dataframe tbody tr th {\n",
       "        vertical-align: top;\n",
       "    }\n",
       "\n",
       "    .dataframe thead th {\n",
       "        text-align: right;\n",
       "    }\n",
       "</style>\n",
       "<table border=\"1\" class=\"dataframe\">\n",
       "  <thead>\n",
       "    <tr style=\"text-align: right;\">\n",
       "      <th></th>\n",
       "      <th>product_id</th>\n",
       "      <th>product_category</th>\n",
       "      <th>product_price</th>\n",
       "    </tr>\n",
       "  </thead>\n",
       "  <tbody>\n",
       "    <tr>\n",
       "      <th>0</th>\n",
       "      <td>45</td>\n",
       "      <td>Roupas</td>\n",
       "      <td>376.73</td>\n",
       "    </tr>\n",
       "    <tr>\n",
       "      <th>1</th>\n",
       "      <td>31</td>\n",
       "      <td>Casa</td>\n",
       "      <td>1554.92</td>\n",
       "    </tr>\n",
       "    <tr>\n",
       "      <th>2</th>\n",
       "      <td>39</td>\n",
       "      <td>Beleza</td>\n",
       "      <td>732.42</td>\n",
       "    </tr>\n",
       "    <tr>\n",
       "      <th>3</th>\n",
       "      <td>47</td>\n",
       "      <td>Roupas</td>\n",
       "      <td>942.46</td>\n",
       "    </tr>\n",
       "    <tr>\n",
       "      <th>4</th>\n",
       "      <td>19</td>\n",
       "      <td>Esporte</td>\n",
       "      <td>217.49</td>\n",
       "    </tr>\n",
       "  </tbody>\n",
       "</table>\n",
       "</div>"
      ],
      "text/plain": [
       "   product_id product_category  product_price\n",
       "0          45           Roupas         376.73\n",
       "1          31             Casa        1554.92\n",
       "2          39           Beleza         732.42\n",
       "3          47           Roupas         942.46\n",
       "4          19          Esporte         217.49"
      ]
     },
     "metadata": {},
     "output_type": "display_data"
    },
    {
     "data": {
      "text/html": [
       "<div>\n",
       "<style scoped>\n",
       "    .dataframe tbody tr th:only-of-type {\n",
       "        vertical-align: middle;\n",
       "    }\n",
       "\n",
       "    .dataframe tbody tr th {\n",
       "        vertical-align: top;\n",
       "    }\n",
       "\n",
       "    .dataframe thead th {\n",
       "        text-align: right;\n",
       "    }\n",
       "</style>\n",
       "<table border=\"1\" class=\"dataframe\">\n",
       "  <thead>\n",
       "    <tr style=\"text-align: right;\">\n",
       "      <th></th>\n",
       "      <th>order_id</th>\n",
       "      <th>customer_id</th>\n",
       "      <th>product_id</th>\n",
       "      <th>order_date</th>\n",
       "      <th>quantity</th>\n",
       "      <th>product_price</th>\n",
       "      <th>revenue</th>\n",
       "    </tr>\n",
       "  </thead>\n",
       "  <tbody>\n",
       "    <tr>\n",
       "      <th>0</th>\n",
       "      <td>1</td>\n",
       "      <td>8</td>\n",
       "      <td>45</td>\n",
       "      <td>2024-11-08</td>\n",
       "      <td>4</td>\n",
       "      <td>376.73</td>\n",
       "      <td>1506.92</td>\n",
       "    </tr>\n",
       "    <tr>\n",
       "      <th>1</th>\n",
       "      <td>2</td>\n",
       "      <td>89</td>\n",
       "      <td>31</td>\n",
       "      <td>2024-12-02</td>\n",
       "      <td>3</td>\n",
       "      <td>1554.92</td>\n",
       "      <td>4664.76</td>\n",
       "    </tr>\n",
       "    <tr>\n",
       "      <th>2</th>\n",
       "      <td>3</td>\n",
       "      <td>48</td>\n",
       "      <td>39</td>\n",
       "      <td>2025-01-01</td>\n",
       "      <td>5</td>\n",
       "      <td>732.42</td>\n",
       "      <td>3662.10</td>\n",
       "    </tr>\n",
       "    <tr>\n",
       "      <th>3</th>\n",
       "      <td>4</td>\n",
       "      <td>37</td>\n",
       "      <td>47</td>\n",
       "      <td>2025-06-02</td>\n",
       "      <td>4</td>\n",
       "      <td>942.46</td>\n",
       "      <td>3769.84</td>\n",
       "    </tr>\n",
       "    <tr>\n",
       "      <th>4</th>\n",
       "      <td>5</td>\n",
       "      <td>23</td>\n",
       "      <td>19</td>\n",
       "      <td>2025-08-30</td>\n",
       "      <td>4</td>\n",
       "      <td>217.49</td>\n",
       "      <td>869.96</td>\n",
       "    </tr>\n",
       "  </tbody>\n",
       "</table>\n",
       "</div>"
      ],
      "text/plain": [
       "   order_id  customer_id  product_id  order_date  quantity  product_price  \\\n",
       "0         1            8          45  2024-11-08         4         376.73   \n",
       "1         2           89          31  2024-12-02         3        1554.92   \n",
       "2         3           48          39  2025-01-01         5         732.42   \n",
       "3         4           37          47  2025-06-02         4         942.46   \n",
       "4         5           23          19  2025-08-30         4         217.49   \n",
       "\n",
       "   revenue  \n",
       "0  1506.92  \n",
       "1  4664.76  \n",
       "2  3662.10  \n",
       "3  3769.84  \n",
       "4   869.96  "
      ]
     },
     "metadata": {},
     "output_type": "display_data"
    }
   ],
   "source": [
    "# Visualizar primeiras linhas\n",
    "display(customers.head())\n",
    "display(products.head())\n",
    "display(sales.head())"
   ]
  },
  {
   "cell_type": "markdown",
   "id": "6e6aa155",
   "metadata": {
    "notebookRunGroups": {
     "groupValue": "1"
    }
   },
   "source": [
    "## Exploração rápida "
   ]
  },
  {
   "cell_type": "code",
   "execution_count": 37,
   "id": "59aaccd3",
   "metadata": {},
   "outputs": [
    {
     "name": "stdout",
     "output_type": "stream",
     "text": [
      "<class 'pandas.core.frame.DataFrame'>\n",
      "RangeIndex: 99 entries, 0 to 98\n",
      "Data columns (total 4 columns):\n",
      " #   Column          Non-Null Count  Dtype \n",
      "---  ------          --------------  ----- \n",
      " 0   customer_id     99 non-null     int64 \n",
      " 1   customer_name   99 non-null     object\n",
      " 2   customer_city   99 non-null     object\n",
      " 3   customer_state  99 non-null     object\n",
      "dtypes: int64(1), object(3)\n",
      "memory usage: 3.2+ KB\n",
      "None\n",
      "<class 'pandas.core.frame.DataFrame'>\n",
      "RangeIndex: 50 entries, 0 to 49\n",
      "Data columns (total 3 columns):\n",
      " #   Column            Non-Null Count  Dtype  \n",
      "---  ------            --------------  -----  \n",
      " 0   product_id        50 non-null     int64  \n",
      " 1   product_category  50 non-null     object \n",
      " 2   product_price     50 non-null     float64\n",
      "dtypes: float64(1), int64(1), object(1)\n",
      "memory usage: 1.3+ KB\n",
      "None\n",
      "<class 'pandas.core.frame.DataFrame'>\n",
      "RangeIndex: 1000 entries, 0 to 999\n",
      "Data columns (total 7 columns):\n",
      " #   Column         Non-Null Count  Dtype  \n",
      "---  ------         --------------  -----  \n",
      " 0   order_id       1000 non-null   int64  \n",
      " 1   customer_id    1000 non-null   int64  \n",
      " 2   product_id     1000 non-null   int64  \n",
      " 3   order_date     1000 non-null   object \n",
      " 4   quantity       1000 non-null   int64  \n",
      " 5   product_price  1000 non-null   float64\n",
      " 6   revenue        1000 non-null   float64\n",
      "dtypes: float64(2), int64(4), object(1)\n",
      "memory usage: 54.8+ KB\n",
      "None\n",
      "       customer_id\n",
      "count    99.000000\n",
      "mean     50.555556\n",
      "std      29.153787\n",
      "min       1.000000\n",
      "25%      25.500000\n",
      "50%      51.000000\n",
      "75%      75.500000\n",
      "max     100.000000\n",
      "       product_id  product_price\n",
      "count    50.00000      50.000000\n",
      "mean     25.50000     929.007800\n",
      "std      14.57738     568.450938\n",
      "min       1.00000      45.000000\n",
      "25%      13.25000     477.877500\n",
      "50%      25.50000     957.350000\n",
      "75%      37.75000    1436.495000\n",
      "max      50.00000    1929.690000\n",
      "          order_id  customer_id  product_id    quantity  product_price  \\\n",
      "count  1000.000000  1000.000000  1000.00000  1000.00000    1000.000000   \n",
      "mean    500.500000    50.147000    26.42200     3.01400     914.594550   \n",
      "std     288.819436    28.496341    14.64843     1.42753     558.251565   \n",
      "min       1.000000     1.000000     1.00000     1.00000      45.000000   \n",
      "25%     250.750000    25.000000    13.00000     2.00000     473.110000   \n",
      "50%     500.500000    50.500000    27.00000     3.00000     955.550000   \n",
      "75%     750.250000    74.000000    39.00000     4.00000    1407.465000   \n",
      "max    1000.000000   100.000000    50.00000     5.00000    1929.690000   \n",
      "\n",
      "           revenue  \n",
      "count  1000.000000  \n",
      "mean   2774.366350  \n",
      "std    2315.293071  \n",
      "min      45.000000  \n",
      "25%     869.960000  \n",
      "50%    2150.120000  \n",
      "75%    4477.400000  \n",
      "max    9648.450000  \n",
      "customer_id       0\n",
      "customer_name     0\n",
      "customer_city     0\n",
      "customer_state    0\n",
      "dtype: int64\n",
      "product_id          0\n",
      "product_category    0\n",
      "product_price       0\n",
      "dtype: int64\n",
      "order_id         0\n",
      "customer_id      0\n",
      "product_id       0\n",
      "order_date       0\n",
      "quantity         0\n",
      "product_price    0\n",
      "revenue          0\n",
      "dtype: int64\n"
     ]
    }
   ],
   "source": [
    "# Informações gerais\n",
    "print(customers.info())\n",
    "print(products.info())\n",
    "print(sales.info())\n",
    "\n",
    "# Estatísticas básicas\n",
    "print(customers.describe())\n",
    "print(products.describe())\n",
    "print(sales.describe())\n",
    "\n",
    "# Valores nulos\n",
    "print(customers.isnull().sum())\n",
    "print(products.isnull().sum())\n",
    "print(sales.isnull().sum())\n"
   ]
  },
  {
   "cell_type": "markdown",
   "id": "6196d61b",
   "metadata": {},
   "source": [
    "## Gráficos simples para demonstração"
   ]
  },
  {
   "cell_type": "code",
   "execution_count": 38,
   "id": "3665fa0b",
   "metadata": {},
   "outputs": [
    {
     "data": {
      "image/png": "[encoded data removed]",
      "text/plain": [
       "<Figure size 1000x500 with 1 Axes>"
      ]
     },
     "metadata": {},
     "output_type": "display_data"
    }
   ],
   "source": [
    "plt.figure(figsize=(10,5))\n",
    "sns.countplot(data=customers, x='customer_state', order=customers['customer_state'].value_counts().index)\n",
    "plt.title('Número de Clientes por Estado')\n",
    "plt.xticks(rotation=45)\n",
    "plt.show()\n"
   ]
  },
  {
   "cell_type": "markdown",
   "id": "71871ca3",
   "metadata": {},
   "source": [
    "## Preço médio por categoria de produto"
   ]
  },
  {
   "cell_type": "code",
   "execution_count": 39,
   "id": "32d8a41b",
   "metadata": {},
   "outputs": [
    {
     "data": {
      "image/png": "[encoded data removed]",
      "text/plain": [
       "<Figure size 800x400 with 1 Axes>"
      ]
     },
     "metadata": {},
     "output_type": "display_data"
    }
   ],
   "source": [
    "plt.figure(figsize=(8,4))\n",
    "products.groupby('product_category')['product_price'].mean().sort_values().plot(kind='barh')\n",
    "plt.title('Preço Médio por Categoria de Produto')\n",
    "plt.show()\n",
    "\n"
   ]
  },
  {
   "cell_type": "markdown",
   "id": "30a2028f",
   "metadata": {},
   "source": [
    "## Top 10 produtos mais vendidos"
   ]
  },
  {
   "cell_type": "code",
   "execution_count": null,
   "id": "7ae419cd",
   "metadata": {},
   "outputs": [],
   "source": []
  }
 ],
 "metadata": {
  "kernelspec": {
   "display_name": ".venv (3.12.3)",
   "language": "python",
   "name": "python3"
  },
  "language_info": {
   "codemirror_mode": {
    "name": "ipython",
    "version": 3
   },
   "file_extension": ".py",
   "mimetype": "text/x-python",
   "name": "python",
   "nbconvert_exporter": "python",
   "pygments_lexer": "ipython3",
   "version": "3.12.3"
  }
 },
 "nbformat": 4,
 "nbformat_minor": 5
}
